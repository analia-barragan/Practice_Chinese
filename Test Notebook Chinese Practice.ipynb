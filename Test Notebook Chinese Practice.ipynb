{
 "cells": [
  {
   "cell_type": "markdown",
   "metadata": {},
   "source": [
    "# Creating an application to practice Chinese characters\n",
    "\n",
    "## Goal\n",
    "\n",
    "The goal of this notebook is to create a structure for an application that can help the user practice Chinese characters and therefore their vocabulary. \n",
    "\n",
    "There should be two parts to this application.\n",
    "\n",
    "**First Part: Interaction with the user**\n",
    "The user should be able to choose the lenght of the test they want to do.\n",
    "The application then should randomly propose a Chinese character. The user then should provide the correct meaning in english and the pinyin for the character. The application then gives feedback to the user and counts how many correct answers there were. \n",
    "\n",
    "**Second Part: Adding more vocabulary to the database of characters**\n",
    "The user should be able to add new vocabulary easily."
   ]
  },
  {
   "cell_type": "code",
   "execution_count": 1,
   "metadata": {},
   "outputs": [],
   "source": [
    "import json\n",
    "import numpy as np"
   ]
  },
  {
   "cell_type": "code",
   "execution_count": 2,
   "metadata": {},
   "outputs": [],
   "source": [
    "with open('vocabulary.json', 'r') as f:\n",
    "    vocabulary = json.load(f)"
   ]
  },
  {
   "cell_type": "code",
   "execution_count": 3,
   "metadata": {},
   "outputs": [],
   "source": [
    "vocabulary.append({'character': '不', 'meaning': 'no',\n",
    "                  'tone': 4, 'pinyin': 'bu'})"
   ]
  },
  {
   "cell_type": "code",
   "execution_count": 4,
   "metadata": {},
   "outputs": [
    {
     "data": {
      "text/plain": [
       "[{'character': '我', 'meaning': 'I', 'tone': 3, 'pinyin': 'wo'},\n",
       " {'character': '你', 'meaning': 'you', 'tone': 3, 'pinyin': 'ni'},\n",
       " {'character': '她', 'meaning': 'she', 'tone': 1, 'pinyin': 'ta'},\n",
       " {'character': '他', 'meaning': 'he', 'tone': 1, 'pinyin': 'ta'},\n",
       " {'character': '爱', 'meaning': 'love', 'tone': 4, 'pinyin': 'ai'},\n",
       " {'character': '爱', 'meaning': 'love', 'tone': 4, 'pinyin': 'ai'},\n",
       " {'character': '不', 'meaning': 'no', 'tone': 4, 'pinyin': 'bu'}]"
      ]
     },
     "execution_count": 4,
     "metadata": {},
     "output_type": "execute_result"
    }
   ],
   "source": [
    "vocabulary"
   ]
  },
  {
   "cell_type": "code",
   "execution_count": 5,
   "metadata": {},
   "outputs": [],
   "source": [
    "for i in range(len(vocabulary)):\n",
    "    vocabulary[i]['tone'] = str(vocabulary[i]['tone'])"
   ]
  },
  {
   "cell_type": "code",
   "execution_count": 6,
   "metadata": {},
   "outputs": [],
   "source": [
    "del vocabulary[5]"
   ]
  },
  {
   "cell_type": "code",
   "execution_count": 7,
   "metadata": {},
   "outputs": [
    {
     "data": {
      "text/plain": [
       "[{'character': '我', 'meaning': 'I', 'tone': '3', 'pinyin': 'wo'},\n",
       " {'character': '你', 'meaning': 'you', 'tone': '3', 'pinyin': 'ni'},\n",
       " {'character': '她', 'meaning': 'she', 'tone': '1', 'pinyin': 'ta'},\n",
       " {'character': '他', 'meaning': 'he', 'tone': '1', 'pinyin': 'ta'},\n",
       " {'character': '爱', 'meaning': 'love', 'tone': '4', 'pinyin': 'ai'},\n",
       " {'character': '不', 'meaning': 'no', 'tone': '4', 'pinyin': 'bu'}]"
      ]
     },
     "execution_count": 7,
     "metadata": {},
     "output_type": "execute_result"
    }
   ],
   "source": [
    "vocabulary"
   ]
  },
  {
   "cell_type": "code",
   "execution_count": 8,
   "metadata": {},
   "outputs": [],
   "source": [
    "with open('./vocabulary.json', 'w') as outfile:\n",
    "    json.dump(vocabulary, outfile)"
   ]
  },
  {
   "cell_type": "code",
   "execution_count": 9,
   "metadata": {},
   "outputs": [
    {
     "name": "stdout",
     "output_type": "stream",
     "text": [
      "Please type in the Chinese character: 都\n",
      "Please type the english meaning of this chinese character: all\n",
      "Please provide the tone of this chinese character: 1\n",
      "Please provide the pinyin of this chinese character: dou\n"
     ]
    }
   ],
   "source": [
    "character_i = input('Please type in the Chinese character: ')\n",
    "meaning_i = input('Please type the english meaning of this chinese character: ')\n",
    "tone_i = input('Please provide the tone of this chinese character: ')\n",
    "pinyin_i = input('Please provide the pinyin of this chinese character: ')"
   ]
  },
  {
   "cell_type": "code",
   "execution_count": 10,
   "metadata": {},
   "outputs": [
    {
     "name": "stdout",
     "output_type": "stream",
     "text": [
      "都 <class 'str'>\n",
      "all <class 'str'>\n",
      "1 <class 'str'>\n",
      "dou <class 'str'>\n"
     ]
    }
   ],
   "source": [
    "print(character_i, type(character_i))\n",
    "print(meaning_i, type(meaning_i))\n",
    "print(tone_i, type(tone_i))\n",
    "print(pinyin_i, type(pinyin_i))"
   ]
  },
  {
   "cell_type": "markdown",
   "metadata": {},
   "source": [
    "## Functions"
   ]
  },
  {
   "cell_type": "code",
   "execution_count": 4,
   "metadata": {},
   "outputs": [],
   "source": [
    "def open_json(file_path):\n",
    "    with open(file_path, 'r') as file:\n",
    "        vocabulary = json.load(file)\n",
    "        return vocabulary"
   ]
  },
  {
   "cell_type": "code",
   "execution_count": 12,
   "metadata": {},
   "outputs": [],
   "source": [
    "vocabulary = open_json('vocabulary.json')"
   ]
  },
  {
   "cell_type": "code",
   "execution_count": 13,
   "metadata": {},
   "outputs": [],
   "source": [
    "def check_if_in_dictionary(character, vocab_dict):\n",
    "    is_there = False\n",
    "    for i in range(len(vocab_dict)):\n",
    "        if character == vocab_dict[i]['character']:\n",
    "            is_there = True\n",
    "    return is_there"
   ]
  },
  {
   "cell_type": "code",
   "execution_count": 14,
   "metadata": {},
   "outputs": [
    {
     "data": {
      "text/plain": [
       "False"
      ]
     },
     "execution_count": 14,
     "metadata": {},
     "output_type": "execute_result"
    }
   ],
   "source": [
    "check_if_in_dictionary('可以', vocabulary)"
   ]
  },
  {
   "cell_type": "code",
   "execution_count": 15,
   "metadata": {},
   "outputs": [],
   "source": [
    "def user_prompt(vocab_dict):\n",
    "    character_i = input('Please type in the Chinese character: ')\n",
    "    while check_if_in_dictionary(character_i, vocab_dict):\n",
    "        print('This character is already in the dictionary')\n",
    "        character_i = input('Please type a new Chinese character: ')\n",
    "    meaning_i = input('Please type the english meaning of this chinese character: ')\n",
    "    tone_i = (input('Please provide the tone of this chinese character(s) (1-4): '))\n",
    "    pinyin_i = input('Please provide the pinyin of this chinese character: ')\n",
    "    return character_i, meaning_i, tone_i, pinyin_i"
   ]
  },
  {
   "cell_type": "code",
   "execution_count": 16,
   "metadata": {},
   "outputs": [
    {
     "name": "stdout",
     "output_type": "stream",
     "text": [
      "Please type in the Chinese character: 所以\n",
      "Please type the english meaning of this chinese character: so\n",
      "Please provide the tone of this chinese character(s) (1-4): 3,3\n",
      "Please provide the pinyin of this chinese character: suoyi\n"
     ]
    },
    {
     "data": {
      "text/plain": [
       "('所以', 'so', '3,3', 'suoyi')"
      ]
     },
     "execution_count": 16,
     "metadata": {},
     "output_type": "execute_result"
    }
   ],
   "source": [
    "user_prompt(vocabulary)"
   ]
  },
  {
   "cell_type": "code",
   "execution_count": 17,
   "metadata": {},
   "outputs": [],
   "source": [
    "def add_vocabulary_simple(vocab_dict):\n",
    "    character_i, meaning_i,tones_i, pinyin_i = user_prompt(vocab_dict)\n",
    "    vocab_dict.append({'character': character_i, 'meaning': meaning_i,\n",
    "                       'tone': tone_i, 'pinyin': pinyin_i})\n",
    "    print('\\nFollowing values have been added to the vocabulary:\\nCharacter: {}\\nMeaning: {}\\nTone: {}\\nPinyin: {}'.format(character_i,meaning_i,\n",
    "                                                                   tone_i, pinyin_i)) "
   ]
  },
  {
   "cell_type": "code",
   "execution_count": 18,
   "metadata": {},
   "outputs": [],
   "source": [
    "def add_vocabulary_multiple(vocab_dict):\n",
    "    add_vocabulary_simple(vocab_dict)\n",
    "    continue_asking = input('\\nDo you want to add more characters? Enter Y/N: ')\n",
    "    while continue_asking.lower() == 'y':\n",
    "        add_vocabulary_simple(vocab_dict)\n",
    "        continue_asking = input('\\nDo you want to add more characters? Enter Y/N: ')"
   ]
  },
  {
   "cell_type": "code",
   "execution_count": 19,
   "metadata": {},
   "outputs": [
    {
     "name": "stdout",
     "output_type": "stream",
     "text": [
      "Please type in the Chinese character: 好\n",
      "Please type the english meaning of this chinese character: good\n",
      "Please provide the tone of this chinese character(s) (1-4): 3\n",
      "Please provide the pinyin of this chinese character: hao\n",
      "\n",
      "Following values have been added to the vocabulary:\n",
      "Character: 好\n",
      "Meaning: good\n",
      "Tone: 1\n",
      "Pinyin: hao\n",
      "\n",
      "Do you want to add more characters? Enter Y/N: y\n",
      "Please type in the Chinese character: 不客气\n",
      "Please type the english meaning of this chinese character: you are welcome\n",
      "Please provide the tone of this chinese character(s) (1-4): 4,4,4\n",
      "Please provide the pinyin of this chinese character: bu ke qi\n",
      "\n",
      "Following values have been added to the vocabulary:\n",
      "Character: 不客气\n",
      "Meaning: you are welcome\n",
      "Tone: 1\n",
      "Pinyin: bu ke qi\n",
      "\n",
      "Do you want to add more characters? Enter Y/N: y\n",
      "Please type in the Chinese character: 你\n",
      "This character is already in the dictionary\n",
      "Please type a new Chinese character: 有\n",
      "Please type the english meaning of this chinese character: to have\n",
      "Please provide the tone of this chinese character(s) (1-4): 3\n",
      "Please provide the pinyin of this chinese character: you\n",
      "\n",
      "Following values have been added to the vocabulary:\n",
      "Character: 有\n",
      "Meaning: to have\n",
      "Tone: 1\n",
      "Pinyin: you\n",
      "\n",
      "Do you want to add more characters? Enter Y/N: n\n"
     ]
    }
   ],
   "source": [
    "add_vocabulary_multiple(vocabulary)"
   ]
  },
  {
   "cell_type": "code",
   "execution_count": 20,
   "metadata": {},
   "outputs": [
    {
     "data": {
      "text/plain": [
       "[{'character': '我', 'meaning': 'I', 'tone': '3', 'pinyin': 'wo'},\n",
       " {'character': '你', 'meaning': 'you', 'tone': '3', 'pinyin': 'ni'},\n",
       " {'character': '她', 'meaning': 'she', 'tone': '1', 'pinyin': 'ta'},\n",
       " {'character': '他', 'meaning': 'he', 'tone': '1', 'pinyin': 'ta'},\n",
       " {'character': '爱', 'meaning': 'love', 'tone': '4', 'pinyin': 'ai'},\n",
       " {'character': '不', 'meaning': 'no', 'tone': '4', 'pinyin': 'bu'},\n",
       " {'character': '好', 'meaning': 'good', 'tone': '1', 'pinyin': 'hao'},\n",
       " {'character': '不客气',\n",
       "  'meaning': 'you are welcome',\n",
       "  'tone': '1',\n",
       "  'pinyin': 'bu ke qi'},\n",
       " {'character': '有', 'meaning': 'to have', 'tone': '1', 'pinyin': 'you'}]"
      ]
     },
     "execution_count": 20,
     "metadata": {},
     "output_type": "execute_result"
    }
   ],
   "source": [
    "vocabulary"
   ]
  },
  {
   "cell_type": "code",
   "execution_count": 22,
   "metadata": {},
   "outputs": [],
   "source": [
    "def save_file(file_path, vocab_dict):\n",
    "    with open(file_path, 'w') as outfile:\n",
    "        json.dump(vocab_dict, outfile)"
   ]
  },
  {
   "cell_type": "code",
   "execution_count": 23,
   "metadata": {},
   "outputs": [],
   "source": [
    "save_file('./vocabulary.json', vocabulary)"
   ]
  },
  {
   "cell_type": "markdown",
   "metadata": {},
   "source": [
    "Part 1:"
   ]
  },
  {
   "cell_type": "code",
   "execution_count": 2,
   "metadata": {},
   "outputs": [],
   "source": [
    "# choose length\n",
    "# Randomly propose character\n",
    "# Ask for meaning, pinyin, tone"
   ]
  },
  {
   "cell_type": "code",
   "execution_count": 38,
   "metadata": {},
   "outputs": [],
   "source": [
    "import random"
   ]
  },
  {
   "cell_type": "code",
   "execution_count": 5,
   "metadata": {},
   "outputs": [],
   "source": [
    "vocabulary = open_json('vocabulary.json')"
   ]
  },
  {
   "cell_type": "code",
   "execution_count": 6,
   "metadata": {},
   "outputs": [
    {
     "data": {
      "text/plain": [
       "[{'character': '我', 'meaning': 'I', 'tone': '3', 'pinyin': 'wo'},\n",
       " {'character': '你', 'meaning': 'you', 'tone': '3', 'pinyin': 'ni'},\n",
       " {'character': '她', 'meaning': 'she', 'tone': '1', 'pinyin': 'ta'},\n",
       " {'character': '他', 'meaning': 'he', 'tone': '1', 'pinyin': 'ta'},\n",
       " {'character': '爱', 'meaning': 'love', 'tone': '4', 'pinyin': 'ai'},\n",
       " {'character': '不', 'meaning': 'no', 'tone': '4', 'pinyin': 'bu'},\n",
       " {'character': '好', 'meaning': 'good', 'tone': '1', 'pinyin': 'hao'},\n",
       " {'character': '不客气',\n",
       "  'meaning': 'you are welcome',\n",
       "  'tone': '1',\n",
       "  'pinyin': 'bu ke qi'},\n",
       " {'character': '有', 'meaning': 'to have', 'tone': '1', 'pinyin': 'you'}]"
      ]
     },
     "execution_count": 6,
     "metadata": {},
     "output_type": "execute_result"
    }
   ],
   "source": [
    "vocabulary"
   ]
  },
  {
   "cell_type": "code",
   "execution_count": 43,
   "metadata": {},
   "outputs": [],
   "source": [
    "def test_user_promt():\n",
    "    start = input('Are you ready to start Y/N? ')\n",
    "    if start.lower() == 'y': \n",
    "        test_length = int(input('How long should your test be? '))\n",
    "    return test_length\n",
    "    "
   ]
  },
  {
   "cell_type": "code",
   "execution_count": 44,
   "metadata": {},
   "outputs": [
    {
     "name": "stdout",
     "output_type": "stream",
     "text": [
      "Are you ready to start Y/N? y\n",
      "How long should your test be? 4\n"
     ]
    },
    {
     "data": {
      "text/plain": [
       "4"
      ]
     },
     "execution_count": 44,
     "metadata": {},
     "output_type": "execute_result"
    }
   ],
   "source": [
    "test_user_promt()"
   ]
  },
  {
   "cell_type": "code",
   "execution_count": 45,
   "metadata": {},
   "outputs": [],
   "source": [
    "def random_character(vocab_dict):\n",
    "    test_length = test_user_promt()\n",
    "    test = random.choices(vocab_dict, k = test_length)\n",
    "    for i in range(test_length):\n",
    "        index = random.randint(0, (len(subset)-1))\n",
    "        print(vocab_dict[index]['character'])"
   ]
  },
  {
   "cell_type": "code",
   "execution_count": 46,
   "metadata": {},
   "outputs": [
    {
     "name": "stdout",
     "output_type": "stream",
     "text": [
      "Are you ready to start Y/N? y\n",
      "How long should your test be? 4\n",
      "她\n",
      "她\n",
      "她\n",
      "你\n"
     ]
    }
   ],
   "source": [
    "random_character(vocabulary)"
   ]
  },
  {
   "cell_type": "code",
   "execution_count": 19,
   "metadata": {},
   "outputs": [
    {
     "name": "stdout",
     "output_type": "stream",
     "text": [
      "How long should your test be? 3\n"
     ]
    }
   ],
   "source": [
    "test_length = int(input('How long should your test be? '))\n",
    "subset = random.choices(vocabulary, k = test_length)"
   ]
  },
  {
   "cell_type": "code",
   "execution_count": 32,
   "metadata": {},
   "outputs": [
    {
     "name": "stdout",
     "output_type": "stream",
     "text": [
      "0\n",
      "不客气\n",
      "1\n",
      "有\n",
      "2\n",
      "我\n"
     ]
    }
   ],
   "source": [
    "for i in range(test_length):\n",
    "    print(i)\n",
    "    index = random.randint(0, (len(subset)-1))\n",
    "    print(subset[index]['character'])"
   ]
  },
  {
   "cell_type": "code",
   "execution_count": 33,
   "metadata": {},
   "outputs": [
    {
     "data": {
      "text/plain": [
       "[1, 2, 0]"
      ]
     },
     "execution_count": 33,
     "metadata": {},
     "output_type": "execute_result"
    }
   ],
   "source": [
    "done"
   ]
  },
  {
   "cell_type": "code",
   "execution_count": 30,
   "metadata": {},
   "outputs": [
    {
     "data": {
      "text/plain": [
       "[{'character': '我', 'meaning': 'I', 'tone': '3', 'pinyin': 'wo'},\n",
       " {'character': '不客气',\n",
       "  'meaning': 'you are welcome',\n",
       "  'tone': '1',\n",
       "  'pinyin': 'bu ke qi'},\n",
       " {'character': '有', 'meaning': 'to have', 'tone': '1', 'pinyin': 'you'}]"
      ]
     },
     "execution_count": 30,
     "metadata": {},
     "output_type": "execute_result"
    }
   ],
   "source": [
    "subset"
   ]
  },
  {
   "cell_type": "code",
   "execution_count": null,
   "metadata": {},
   "outputs": [],
   "source": []
  },
  {
   "cell_type": "code",
   "execution_count": null,
   "metadata": {},
   "outputs": [],
   "source": []
  }
 ],
 "metadata": {
  "kernelspec": {
   "display_name": "Python 3",
   "language": "python",
   "name": "python3"
  },
  "language_info": {
   "codemirror_mode": {
    "name": "ipython",
    "version": 3
   },
   "file_extension": ".py",
   "mimetype": "text/x-python",
   "name": "python",
   "nbconvert_exporter": "python",
   "pygments_lexer": "ipython3",
   "version": "3.6.8"
  }
 },
 "nbformat": 4,
 "nbformat_minor": 2
}
