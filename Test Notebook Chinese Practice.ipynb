{
 "cells": [
  {
   "cell_type": "markdown",
   "metadata": {},
   "source": [
    "# Creating an application to practice Chinese characters\n",
    "\n",
    "## Goal\n",
    "\n",
    "The goal of this notebook is to test functions for an application that can help the user practice Chinese characters and therefore their vocabulary. \n",
    "\n",
    "There should be two parts to this application.\n",
    "\n",
    "**First Part: Adding more vocabulary to the database of characters**\n",
    "- There should be a dictionary to which the user can add new vocabulary easily\n",
    "- The vocabulary should consist of the character, the meaning in english, the tones, and the pinyin\n",
    "- It should be possible to easily correct entries in the dictionary\n",
    "\n",
    "**Second Part: Interaction with the user**\n",
    "- The user should be able to choose a lenght x of the test they want to do\n",
    "- The application should randomly propose x Chinese character and ask for the correct english meaning, tone, and pinyin\n",
    "- The user should be able to input this information and get feedback on the correctness of their answer\n",
    "- 100% correct answers for one single character should give the the user 1 point\n",
    "- The user should get feedback on the number of correct answers they achieved "
   ]
  },
  {
   "cell_type": "markdown",
   "metadata": {},
   "source": [
    "## First Part: Adding more vocabulary to the database of characters\n",
    "\n",
    "* [x]  There should be a dictionary to which the user can add new vocabulary easily\n",
    "* [x]  The vocabulary should consist of the character, the meaning in english, the tones, and the pinyin\n",
    "* [ ]  It should be possible to easily correct entries in the dictionary"
   ]
  },
  {
   "cell_type": "code",
   "execution_count": 1,
   "metadata": {},
   "outputs": [],
   "source": [
    "# Import necessary libraries for part 1 and part 2\n",
    "import json\n",
    "import numpy as np\n",
    "import random"
   ]
  },
  {
   "cell_type": "code",
   "execution_count": 2,
   "metadata": {},
   "outputs": [],
   "source": [
    "# Test opening a pre-filles JSON File\n",
    "with open('vocabulary.json', 'r') as f:\n",
    "    vocabulary = json.load(f)"
   ]
  },
  {
   "cell_type": "code",
   "execution_count": 3,
   "metadata": {},
   "outputs": [
    {
     "data": {
      "text/plain": [
       "[{'character': '我', 'meaning': 'I', 'tone': '3', 'pinyin': 'wo'},\n",
       " {'character': '你', 'meaning': 'you', 'tone': '3', 'pinyin': 'ni'},\n",
       " {'character': '她', 'meaning': 'she', 'tone': '1', 'pinyin': 'ta'},\n",
       " {'character': '他', 'meaning': 'he', 'tone': '1', 'pinyin': 'ta'},\n",
       " {'character': '爱', 'meaning': 'love', 'tone': '4', 'pinyin': 'ai'},\n",
       " {'character': '不', 'meaning': 'no', 'tone': '4', 'pinyin': 'bu'},\n",
       " {'character': '好', 'meaning': 'good', 'tone': '3', 'pinyin': 'hao'},\n",
       " {'character': '不客气',\n",
       "  'meaning': 'you are welcome',\n",
       "  'tone': '4,4,4',\n",
       "  'pinyin': 'bu ke qi'},\n",
       " {'character': '有', 'meaning': 'to have', 'tone': '3', 'pinyin': 'you'},\n",
       " {'character': '要', 'meaning': 'to want', 'tone': '4', 'pinyin': 'yao'},\n",
       " {'character': '可以', 'meaning': 'can, may', 'tone': '3,3', 'pinyin': 'ke yi'},\n",
       " {'character': '高兴',\n",
       "  'meaning': 'glad, happy',\n",
       "  'tone': '1,4',\n",
       "  'pinyin': 'gao xing'}]"
      ]
     },
     "execution_count": 3,
     "metadata": {},
     "output_type": "execute_result"
    }
   ],
   "source": [
    "vocabulary"
   ]
  },
  {
   "cell_type": "code",
   "execution_count": 4,
   "metadata": {},
   "outputs": [],
   "source": [
    "# Test how to append a character\n",
    "vocabulary.append({'character': '喜欢', 'meaning': 'to like',\n",
    "                  'tone': '3,1', 'pinyin': 'xi huan'})"
   ]
  },
  {
   "cell_type": "code",
   "execution_count": 5,
   "metadata": {},
   "outputs": [
    {
     "data": {
      "text/plain": [
       "[{'character': '我', 'meaning': 'I', 'tone': '3', 'pinyin': 'wo'},\n",
       " {'character': '你', 'meaning': 'you', 'tone': '3', 'pinyin': 'ni'},\n",
       " {'character': '她', 'meaning': 'she', 'tone': '1', 'pinyin': 'ta'},\n",
       " {'character': '他', 'meaning': 'he', 'tone': '1', 'pinyin': 'ta'},\n",
       " {'character': '爱', 'meaning': 'love', 'tone': '4', 'pinyin': 'ai'},\n",
       " {'character': '不', 'meaning': 'no', 'tone': '4', 'pinyin': 'bu'},\n",
       " {'character': '好', 'meaning': 'good', 'tone': '3', 'pinyin': 'hao'},\n",
       " {'character': '不客气',\n",
       "  'meaning': 'you are welcome',\n",
       "  'tone': '4,4,4',\n",
       "  'pinyin': 'bu ke qi'},\n",
       " {'character': '有', 'meaning': 'to have', 'tone': '3', 'pinyin': 'you'},\n",
       " {'character': '要', 'meaning': 'to want', 'tone': '4', 'pinyin': 'yao'},\n",
       " {'character': '可以', 'meaning': 'can, may', 'tone': '3,3', 'pinyin': 'ke yi'},\n",
       " {'character': '高兴',\n",
       "  'meaning': 'glad, happy',\n",
       "  'tone': '1,4',\n",
       "  'pinyin': 'gao xing'},\n",
       " {'character': '喜欢', 'meaning': 'to like', 'tone': '3,1', 'pinyin': 'xi huan'}]"
      ]
     },
     "execution_count": 5,
     "metadata": {},
     "output_type": "execute_result"
    }
   ],
   "source": [
    "vocabulary"
   ]
  },
  {
   "cell_type": "code",
   "execution_count": 6,
   "metadata": {},
   "outputs": [],
   "source": [
    "# Convert all the tones to strings, so multiple tones can be added under one key\n",
    "for i in range(len(vocabulary)):\n",
    "    vocabulary[i]['tone'] = str(vocabulary[i]['tone'])"
   ]
  },
  {
   "cell_type": "code",
   "execution_count": 7,
   "metadata": {},
   "outputs": [
    {
     "data": {
      "text/plain": [
       "[{'character': '我', 'meaning': 'I', 'tone': '3', 'pinyin': 'wo'},\n",
       " {'character': '你', 'meaning': 'you', 'tone': '3', 'pinyin': 'ni'},\n",
       " {'character': '她', 'meaning': 'she', 'tone': '1', 'pinyin': 'ta'},\n",
       " {'character': '他', 'meaning': 'he', 'tone': '1', 'pinyin': 'ta'},\n",
       " {'character': '爱', 'meaning': 'love', 'tone': '4', 'pinyin': 'ai'},\n",
       " {'character': '不', 'meaning': 'no', 'tone': '4', 'pinyin': 'bu'},\n",
       " {'character': '好', 'meaning': 'good', 'tone': '3', 'pinyin': 'hao'},\n",
       " {'character': '不客气',\n",
       "  'meaning': 'you are welcome',\n",
       "  'tone': '4,4,4',\n",
       "  'pinyin': 'bu ke qi'},\n",
       " {'character': '有', 'meaning': 'to have', 'tone': '3', 'pinyin': 'you'},\n",
       " {'character': '要', 'meaning': 'to want', 'tone': '4', 'pinyin': 'yao'},\n",
       " {'character': '可以', 'meaning': 'can, may', 'tone': '3,3', 'pinyin': 'ke yi'},\n",
       " {'character': '高兴',\n",
       "  'meaning': 'glad, happy',\n",
       "  'tone': '1,4',\n",
       "  'pinyin': 'gao xing'},\n",
       " {'character': '喜欢', 'meaning': 'to like', 'tone': '3,1', 'pinyin': 'xi huan'}]"
      ]
     },
     "execution_count": 7,
     "metadata": {},
     "output_type": "execute_result"
    }
   ],
   "source": [
    "vocabulary"
   ]
  },
  {
   "cell_type": "code",
   "execution_count": 8,
   "metadata": {},
   "outputs": [],
   "source": [
    "# Test how to save a JSON file\n",
    "with open('./vocabulary.json', 'w') as outfile:\n",
    "    json.dump(vocabulary, outfile)"
   ]
  },
  {
   "cell_type": "code",
   "execution_count": 10,
   "metadata": {},
   "outputs": [
    {
     "name": "stdout",
     "output_type": "stream",
     "text": [
      "Please type in the Chinese character: 中文\n",
      "Please type the english meaning of this chinese character: Chinese Language\n",
      "Please provide the tone of this chinese character: 1,2\n",
      "Please provide the pinyin of this chinese character: zhong wen\n"
     ]
    }
   ],
   "source": [
    "# Test how to get user input\n",
    "character_i = input('Please type in the Chinese character: ')\n",
    "meaning_i = input('Please type the english meaning of this chinese character: ')\n",
    "tone_i = input('Please provide the tone of this chinese character: ')\n",
    "pinyin_i = input('Please provide the pinyin of this chinese character: ')"
   ]
  },
  {
   "cell_type": "code",
   "execution_count": 11,
   "metadata": {},
   "outputs": [
    {
     "name": "stdout",
     "output_type": "stream",
     "text": [
      "中文 <class 'str'>\n",
      "Chinese Language <class 'str'>\n",
      "1,2 <class 'str'>\n",
      "zhong wen <class 'str'>\n"
     ]
    }
   ],
   "source": [
    "print(character_i, type(character_i))\n",
    "print(meaning_i, type(meaning_i))\n",
    "print(tone_i, type(tone_i))\n",
    "print(pinyin_i, type(pinyin_i))"
   ]
  },
  {
   "cell_type": "markdown",
   "metadata": {},
   "source": [
    "### Functions"
   ]
  },
  {
   "cell_type": "code",
   "execution_count": 12,
   "metadata": {},
   "outputs": [],
   "source": [
    "def open_json(file_path):\n",
    "    '''This function opens a JSON file.\n",
    "    INPUT: File path to JSON\n",
    "    OUTPUT: Readable file\n",
    "    '''\n",
    "    with open(file_path, 'r') as file:\n",
    "        vocabulary = json.load(file)\n",
    "        return vocabulary"
   ]
  },
  {
   "cell_type": "code",
   "execution_count": 13,
   "metadata": {},
   "outputs": [],
   "source": [
    "vocabulary = open_json('vocabulary.json')"
   ]
  },
  {
   "cell_type": "code",
   "execution_count": 14,
   "metadata": {},
   "outputs": [],
   "source": [
    "def check_if_in_dictionary(character, vocab_dict):\n",
    "    '''This function checks if a specific character already exists in the dictionary.\n",
    "    INPUT: Specific character, dictionary containing vocabulary\n",
    "    OUTPUT: Boolean, True is character is in dictionary, False if character is not in dictionary\n",
    "    '''\n",
    "    is_there = False\n",
    "    for i in range(len(vocab_dict)):\n",
    "        if character == vocab_dict[i]['character']:\n",
    "            is_there = True\n",
    "    return is_there"
   ]
  },
  {
   "cell_type": "code",
   "execution_count": 15,
   "metadata": {},
   "outputs": [
    {
     "data": {
      "text/plain": [
       "True"
      ]
     },
     "execution_count": 15,
     "metadata": {},
     "output_type": "execute_result"
    }
   ],
   "source": [
    "check_if_in_dictionary('可以', vocabulary)"
   ]
  },
  {
   "cell_type": "code",
   "execution_count": 16,
   "metadata": {},
   "outputs": [],
   "source": [
    "def user_prompt(vocab_dict):\n",
    "    '''This function contains user promts to gather vocabulary input.\n",
    "    INPUT: Dictionary containing vocabulary\n",
    "    OUTPUT: User input for character, meaning in english, tone, pinyin'''\n",
    "    character_i = input('Please type in the Chinese character: ')\n",
    "    while check_if_in_dictionary(character_i, vocab_dict):\n",
    "        print('This character is already in the dictionary')\n",
    "        character_i = input('Please type a new Chinese character: ')\n",
    "    meaning_i = input('Please type the english meaning of this chinese character: ')\n",
    "    tone_i = (input('Please provide the tone of this chinese character(s) (1-4): '))\n",
    "    pinyin_i = input('Please provide the pinyin of this chinese character: ')\n",
    "    return character_i, meaning_i, tone_i, pinyin_i"
   ]
  },
  {
   "cell_type": "code",
   "execution_count": 17,
   "metadata": {},
   "outputs": [
    {
     "name": "stdout",
     "output_type": "stream",
     "text": [
      "Please type in the Chinese character: 中文\n",
      "Please type the english meaning of this chinese character: Chinese language\n",
      "Please provide the tone of this chinese character(s) (1-4): 1,2\n",
      "Please provide the pinyin of this chinese character: zhong wen\n"
     ]
    },
    {
     "data": {
      "text/plain": [
       "('中文', 'Chinese language', '1,2', 'zhong wen')"
      ]
     },
     "execution_count": 17,
     "metadata": {},
     "output_type": "execute_result"
    }
   ],
   "source": [
    "user_prompt(vocabulary)"
   ]
  },
  {
   "cell_type": "code",
   "execution_count": 18,
   "metadata": {},
   "outputs": [],
   "source": [
    "def add_vocabulary_simple(vocab_dict):\n",
    "    '''This function appends a single data entry to the dictionary containing the vocabulary\n",
    "    INPUT: Dictionary containing the vocabulary\n",
    "    OUTPUT: None'''\n",
    "    character_i, meaning_i,tone_i, pinyin_i = user_prompt(vocab_dict)\n",
    "    vocab_dict.append({'character': character_i, 'meaning': meaning_i,\n",
    "                       'tone': tone_i, 'pinyin': pinyin_i})\n",
    "    print('\\nFollowing values have been added to the vocabulary:\\nCharacter: {}\\nMeaning: {}\\nTone: {}\\nPinyin: {}'.format(character_i,meaning_i,\n",
    "                                                                   tone_i, pinyin_i))"
   ]
  },
  {
   "cell_type": "code",
   "execution_count": 19,
   "metadata": {},
   "outputs": [],
   "source": [
    "def add_vocabulary_multiple(vocab_dict):\n",
    "    '''This function appends multiple single data entry to the dictionary containing the vocabulary\n",
    "    INPUT: Dictionary containing the vocabulary\n",
    "    OUTPUT: None'''\n",
    "    add_vocabulary_simple(vocab_dict)\n",
    "    continue_asking = input('\\nDo you want to add more characters? Enter Y/N: ')\n",
    "    while continue_asking.lower() == 'y':\n",
    "        add_vocabulary_simple(vocab_dict)\n",
    "        continue_asking = input('\\nDo you want to add more characters? Enter Y/N: ')"
   ]
  },
  {
   "cell_type": "code",
   "execution_count": 20,
   "metadata": {},
   "outputs": [
    {
     "name": "stdout",
     "output_type": "stream",
     "text": [
      "Please type in the Chinese character: 中文\n",
      "Please type the english meaning of this chinese character: Chinese language\n",
      "Please provide the tone of this chinese character(s) (1-4): 1,2\n",
      "Please provide the pinyin of this chinese character: zhong wen\n",
      "\n",
      "Following values have been added to the vocabulary:\n",
      "Character: 中文\n",
      "Meaning: Chinese language\n",
      "Tone: 1,2\n",
      "Pinyin: zhong wen\n",
      "\n",
      "Do you want to add more characters? Enter Y/N: y\n",
      "Please type in the Chinese character: 老师\n",
      "Please type the english meaning of this chinese character: teacher\n",
      "Please provide the tone of this chinese character(s) (1-4): 3,1\n",
      "Please provide the pinyin of this chinese character: lao shi\n",
      "\n",
      "Following values have been added to the vocabulary:\n",
      "Character: 老师\n",
      "Meaning: teacher\n",
      "Tone: 3,1\n",
      "Pinyin: lao shi\n",
      "\n",
      "Do you want to add more characters? Enter Y/N: n\n"
     ]
    }
   ],
   "source": [
    "add_vocabulary_multiple(vocabulary)"
   ]
  },
  {
   "cell_type": "code",
   "execution_count": 21,
   "metadata": {},
   "outputs": [
    {
     "data": {
      "text/plain": [
       "[{'character': '我', 'meaning': 'I', 'tone': '3', 'pinyin': 'wo'},\n",
       " {'character': '你', 'meaning': 'you', 'tone': '3', 'pinyin': 'ni'},\n",
       " {'character': '她', 'meaning': 'she', 'tone': '1', 'pinyin': 'ta'},\n",
       " {'character': '他', 'meaning': 'he', 'tone': '1', 'pinyin': 'ta'},\n",
       " {'character': '爱', 'meaning': 'love', 'tone': '4', 'pinyin': 'ai'},\n",
       " {'character': '不', 'meaning': 'no', 'tone': '4', 'pinyin': 'bu'},\n",
       " {'character': '好', 'meaning': 'good', 'tone': '3', 'pinyin': 'hao'},\n",
       " {'character': '不客气',\n",
       "  'meaning': 'you are welcome',\n",
       "  'tone': '4,4,4',\n",
       "  'pinyin': 'bu ke qi'},\n",
       " {'character': '有', 'meaning': 'to have', 'tone': '3', 'pinyin': 'you'},\n",
       " {'character': '要', 'meaning': 'to want', 'tone': '4', 'pinyin': 'yao'},\n",
       " {'character': '可以', 'meaning': 'can, may', 'tone': '3,3', 'pinyin': 'ke yi'},\n",
       " {'character': '高兴',\n",
       "  'meaning': 'glad, happy',\n",
       "  'tone': '1,4',\n",
       "  'pinyin': 'gao xing'},\n",
       " {'character': '喜欢', 'meaning': 'to like', 'tone': '3,1', 'pinyin': 'xi huan'},\n",
       " {'character': '中文',\n",
       "  'meaning': 'Chinese language',\n",
       "  'tone': '1,2',\n",
       "  'pinyin': 'zhong wen'},\n",
       " {'character': '老师', 'meaning': 'teacher', 'tone': '3,1', 'pinyin': 'lao shi'}]"
      ]
     },
     "execution_count": 21,
     "metadata": {},
     "output_type": "execute_result"
    }
   ],
   "source": [
    "vocabulary"
   ]
  },
  {
   "cell_type": "code",
   "execution_count": 22,
   "metadata": {},
   "outputs": [],
   "source": [
    "def save_file(file_path, vocab_dict):\n",
    "    '''This function saves dictionary containing vocabulary to a JSON\n",
    "    INPUT: Dictionary containing vocabulary\n",
    "    OUTPUT: None'''\n",
    "    with open(file_path, 'w') as outfile:\n",
    "        json.dump(vocab_dict, outfile)"
   ]
  },
  {
   "cell_type": "code",
   "execution_count": 23,
   "metadata": {},
   "outputs": [],
   "source": [
    "save_file('./vocabulary.json', vocabulary)"
   ]
  },
  {
   "cell_type": "markdown",
   "metadata": {},
   "source": [
    "## Second Part: Interaction with the user\n",
    "* [x]  The user should be able to choose a lenght x of the test they want to do\n",
    "* [x] The application should randomly propose x Chinese character and ask for the correct english meaning, tone, and pinyin\n",
    "* [x] The user should be able to input this information and get feedback on the correctness of their answer\n",
    "* [x] 100% correct answers for one single character should give the user 1 point\n",
    "* [x] The user should get feedback on the number of correct answers they achieved "
   ]
  },
  {
   "cell_type": "code",
   "execution_count": 24,
   "metadata": {},
   "outputs": [],
   "source": [
    "# Open JSON again\n",
    "vocabulary = open_json('vocabulary.json')"
   ]
  },
  {
   "cell_type": "code",
   "execution_count": 25,
   "metadata": {},
   "outputs": [],
   "source": [
    "def user_promt_test_legth():\n",
    "    '''This function asks the user to define a test length\n",
    "    INPUT: None\n",
    "    OUTPUT: Test length provided by the user\n",
    "    '''\n",
    "    start = input('Are you ready to start Y/N? ')\n",
    "    if start.lower() == 'y': \n",
    "        test_length = int(input('How long should your test be? '))\n",
    "    return test_length"
   ]
  },
  {
   "cell_type": "code",
   "execution_count": 26,
   "metadata": {},
   "outputs": [
    {
     "name": "stdout",
     "output_type": "stream",
     "text": [
      "Are you ready to start Y/N? y\n",
      "How long should your test be? 5\n"
     ]
    },
    {
     "data": {
      "text/plain": [
       "5"
      ]
     },
     "execution_count": 26,
     "metadata": {},
     "output_type": "execute_result"
    }
   ],
   "source": [
    "user_promt_test_legth()"
   ]
  },
  {
   "cell_type": "code",
   "execution_count": 27,
   "metadata": {},
   "outputs": [],
   "source": [
    "def user_prompt_test_knowledge(dict_key, character):\n",
    "    ''' This function returns the user's answer to a knowledge question.\n",
    "    INPUT: Dictionary key e.g. \"meaning\" or \"tone\"\n",
    "    OUTPUT: User answer\n",
    "    '''\n",
    "    return input('What is the {} of {} '.format(dict_key, character))"
   ]
  },
  {
   "cell_type": "code",
   "execution_count": 28,
   "metadata": {},
   "outputs": [],
   "source": [
    "def random_character(vocab_dict):\n",
    "    '''This function has the goal of randomly selecting a character from a dictionary\n",
    "    INPUT: Dictionary with vocabulary\n",
    "    OUTPU: Index of randomly selected character, character\n",
    "    '''\n",
    "    index = random.randint(0, (len(vocab_dict)-1))\n",
    "    character = vocab_dict[index]['character']\n",
    "    return index, character"
   ]
  },
  {
   "cell_type": "code",
   "execution_count": 29,
   "metadata": {},
   "outputs": [
    {
     "data": {
      "text/plain": [
       "(11, '高兴')"
      ]
     },
     "execution_count": 29,
     "metadata": {},
     "output_type": "execute_result"
    }
   ],
   "source": [
    "random_character(vocabulary)"
   ]
  },
  {
   "cell_type": "code",
   "execution_count": 52,
   "metadata": {},
   "outputs": [],
   "source": [
    "def points(points):\n",
    "    '''This function checks if the user answered the test correctly\n",
    "    INPUT: Number of points\n",
    "    OUTPUT: Boolean, True if a point was achieved, False if no point was achieved'''\n",
    "    result = False\n",
    "    if points == 3:\n",
    "        result = True\n",
    "    return result"
   ]
  },
  {
   "cell_type": "code",
   "execution_count": 54,
   "metadata": {},
   "outputs": [
    {
     "name": "stdout",
     "output_type": "stream",
     "text": [
      "False\n",
      "True\n"
     ]
    }
   ],
   "source": [
    "print(points(4))\n",
    "print(points(3))"
   ]
  },
  {
   "cell_type": "code",
   "execution_count": 62,
   "metadata": {},
   "outputs": [],
   "source": [
    "# Provide answers and get a correct or wrong\n",
    "def test_knowledge_one_character(vocab_dict, keys_list , index, character):\n",
    "    '''This function tests the knowledge of the user for one single charatcer\n",
    "    INPUT: Dictionary containing vocabulary, list of keys in dictionary (e.g meaning, tone),\n",
    "    index in dictionary of character that should be tested, character that should be tested\n",
    "    OUTPUT: Boolean, True if a point was achieved, False if no point was achieved'''\n",
    "    keys = keys_list\n",
    "    correct = 0\n",
    "    for k in keys:\n",
    "        user_input = user_prompt_test_knowledge(k, character)\n",
    "        if vocabulary[index][k] == user_input:\n",
    "            print('Good job!')\n",
    "            correct += 1\n",
    "        else:\n",
    "            print('Ups, that is not correct')\n",
    "            print('The correct answer is: {}'.format(vocabulary[index][k]))\n",
    "    return points(correct)"
   ]
  },
  {
   "cell_type": "code",
   "execution_count": 59,
   "metadata": {},
   "outputs": [
    {
     "name": "stdout",
     "output_type": "stream",
     "text": [
      "What is the meaning of 好 good\n",
      "Good job!\n",
      "What is the tone of 好 3\n",
      "Good job!\n",
      "What is the pinyin of 好 hao\n",
      "Good job!\n",
      "True\n"
     ]
    }
   ],
   "source": [
    "keys = ['meaning', 'tone', 'pinyin']\n",
    "\n",
    "test_knowledge_one_character(vocabulary, keys, 6, vocabulary[6]['character'])"
   ]
  },
  {
   "cell_type": "code",
   "execution_count": 77,
   "metadata": {},
   "outputs": [],
   "source": [
    "def test_knowledge_complete(vocab_dict, keys_list):\n",
    "    '''This function tests the knowledge of the user for the provided test_lenght.\n",
    "    INPUT: Dictionary containing vocabulary, list of keys in dictionary (e.g meaning, tone)\n",
    "    OUTPUT: None'''\n",
    "    test_length = user_promt_test_legth()\n",
    "    tested_characters = []\n",
    "    score = 0\n",
    "    for i in range(test_length):\n",
    "        index, character = random_character(vocab_dict)\n",
    "        while index in tested_characters:\n",
    "            print('entered while loop')\n",
    "            index, character = random_character(vocab_dict)\n",
    "            \n",
    "        if index not in tested_characters:\n",
    "            tested_characters.append(index)\n",
    "            points = test_knowledge_one_character(vocab_dict, keys_list, index, character)\n",
    "            if points:\n",
    "                score +=1\n",
    "    print('You finished you test!')\n",
    "    print('Your score is: {}/{} or {:.1f}%'.format(score, test_length, (score/test_length*100)))"
   ]
  },
  {
   "cell_type": "code",
   "execution_count": 78,
   "metadata": {},
   "outputs": [
    {
     "name": "stdout",
     "output_type": "stream",
     "text": [
      "Are you ready to start Y/N? y\n",
      "How long should your test be? 1\n",
      "What is the meaning of 有 to have\n",
      "Good job!\n",
      "What is the tone of 有 3\n",
      "Good job!\n",
      "What is the pinyin of 有 you\n",
      "Good job!\n",
      "You finished you test!\n",
      "Your score is: 1/1 or 100.0%\n"
     ]
    }
   ],
   "source": [
    "test_knowledge_complete(vocabulary, keys)"
   ]
  },
  {
   "cell_type": "code",
   "execution_count": null,
   "metadata": {},
   "outputs": [],
   "source": []
  }
 ],
 "metadata": {
  "kernelspec": {
   "display_name": "Python 3",
   "language": "python",
   "name": "python3"
  },
  "language_info": {
   "codemirror_mode": {
    "name": "ipython",
    "version": 3
   },
   "file_extension": ".py",
   "mimetype": "text/x-python",
   "name": "python",
   "nbconvert_exporter": "python",
   "pygments_lexer": "ipython3",
   "version": "3.6.8"
  }
 },
 "nbformat": 4,
 "nbformat_minor": 2
}
