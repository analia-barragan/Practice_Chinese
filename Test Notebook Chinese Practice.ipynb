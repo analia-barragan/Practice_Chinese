{
 "cells": [
  {
   "cell_type": "markdown",
   "metadata": {},
   "source": [
    "# Creating an application to practice Chinese characters\n",
    "\n",
    "## Goal\n",
    "\n",
    "The goal of this notebook is to create a structure for an application that can help the user practice Chinese characters and therefore their vocabulary. \n",
    "\n",
    "There should be two parts to this application.\n",
    "\n",
    "**First Part: Interaction with the user**\n",
    "The user should be able to choose the lenght of the test they want to do.\n",
    "The application then should randomly propose a Chinese character. The user then should provide the correct meaning in english and the pinyin for the character. The application then gives feedback to the user and counts how many correct answers there were. \n",
    "\n",
    "**Second Part: Adding more vocabulary to the database of characters**\n",
    "The user should be able to add new vocabulary easily."
   ]
  },
  {
   "cell_type": "code",
   "execution_count": 36,
   "metadata": {},
   "outputs": [],
   "source": [
    "import json\n",
    "import numpy as np"
   ]
  },
  {
   "cell_type": "code",
   "execution_count": 5,
   "metadata": {},
   "outputs": [],
   "source": [
    "with open('vocabulary.json', 'r') as f:\n",
    "    vocabulary = json.load(f)"
   ]
  },
  {
   "cell_type": "code",
   "execution_count": 6,
   "metadata": {},
   "outputs": [],
   "source": [
    "vocabulary.append({'character': '爱', 'meaning': 'love',\n",
    "                  'tone': 4, 'pinyin': 'ai'})"
   ]
  },
  {
   "cell_type": "code",
   "execution_count": 7,
   "metadata": {},
   "outputs": [
    {
     "data": {
      "text/plain": [
       "[{'character': '我', 'meaning': 'I', 'tone': 3, 'pinyin': 'wo'},\n",
       " {'character': '你', 'meaning': 'you', 'tone': 3, 'pinyin': 'ni'},\n",
       " {'character': '她', 'meaning': 'she', 'tone': 1, 'pinyin': 'ta'},\n",
       " {'character': '他', 'meaning': 'he', 'tone': 1, 'pinyin': 'ta'},\n",
       " {'character': '爱', 'meaning': 'love', 'tone': 4, 'pinyin': 'ai'}]"
      ]
     },
     "execution_count": 7,
     "metadata": {},
     "output_type": "execute_result"
    }
   ],
   "source": [
    "vocabulary"
   ]
  },
  {
   "cell_type": "code",
   "execution_count": 9,
   "metadata": {},
   "outputs": [],
   "source": [
    "with open('./vocabulary.json', 'w') as outfile:\n",
    "    json.dump(vocabulary, outfile)"
   ]
  },
  {
   "cell_type": "code",
   "execution_count": 8,
   "metadata": {},
   "outputs": [
    {
     "name": "stdout",
     "output_type": "stream",
     "text": [
      "Please type in the Chinese character: 不\n",
      "Please type the english meaning of this chinese character: no\n",
      "Please provide the tone of this chinese character: 4\n",
      "Please provide the pinyin of this chinese character: bu\n"
     ]
    }
   ],
   "source": [
    "character_i = input('Please type in the Chinese character: ')\n",
    "meaning_i = input('Please type the english meaning of this chinese character: ')\n",
    "tone_i = int(input('Please provide the tone of this chinese character: '))\n",
    "pinyin_i = input('Please provide the pinyin of this chinese character: ')"
   ]
  },
  {
   "cell_type": "code",
   "execution_count": 9,
   "metadata": {},
   "outputs": [
    {
     "name": "stdout",
     "output_type": "stream",
     "text": [
      "不 <class 'str'>\n",
      "no <class 'str'>\n",
      "4 <class 'int'>\n",
      "bu <class 'str'>\n"
     ]
    }
   ],
   "source": [
    "print(character_i, type(character_i))\n",
    "print(meaning_i, type(meaning_i))\n",
    "print(tone_i, type(tone_i))\n",
    "print(pinyin_i, type(pinyin_i))"
   ]
  },
  {
   "cell_type": "code",
   "execution_count": 12,
   "metadata": {},
   "outputs": [],
   "source": [
    "def open_json(file_path):\n",
    "    with open(file_path, 'r') as file:\n",
    "        vocabulary = json.load(file)\n",
    "        return vocabulary"
   ]
  },
  {
   "cell_type": "code",
   "execution_count": 13,
   "metadata": {},
   "outputs": [],
   "source": [
    "vocabulary = open_json('vocabulary.json')"
   ]
  },
  {
   "cell_type": "code",
   "execution_count": 14,
   "metadata": {},
   "outputs": [
    {
     "data": {
      "text/plain": [
       "[{'character': '我', 'meaning': 'I', 'tone': 3, 'pinyin': 'wo'},\n",
       " {'character': '你', 'meaning': 'you', 'tone': 3, 'pinyin': 'ni'},\n",
       " {'character': '她', 'meaning': 'she', 'tone': 1, 'pinyin': 'ta'},\n",
       " {'character': '他', 'meaning': 'he', 'tone': 1, 'pinyin': 'ta'},\n",
       " {'character': '爱', 'meaning': 'love', 'tone': 4, 'pinyin': 'ai'}]"
      ]
     },
     "execution_count": 14,
     "metadata": {},
     "output_type": "execute_result"
    }
   ],
   "source": [
    "vocabulary"
   ]
  },
  {
   "cell_type": "code",
   "execution_count": 50,
   "metadata": {},
   "outputs": [],
   "source": [
    "def user_promt():\n",
    "    tones = np.arange(1,5)\n",
    "    character_i = input('Please type in the Chinese character: ')\n",
    "    meaning_i = input('Please type the english meaning of this chinese character: ')\n",
    "    try:\n",
    "        tone_i = int(input('Please provide the tone of this chinese character (1-4): '))\n",
    "    except ValueError: \n",
    "        tone_i = int(input('Ups! Please provide an integer from 1 to 4: '))\n",
    "    pinyin_i = input('Please provide the pinyin of this chinese character: ')\n",
    "    return character_i, meaning_i, tone_i, pinyin_i"
   ]
  },
  {
   "cell_type": "code",
   "execution_count": 53,
   "metadata": {},
   "outputs": [],
   "source": [
    "def add_vocabulary_simple(vocab_dict):\n",
    "    character_i, meaning_i,tones_i, pinyin_i = user_promt()\n",
    "    vocab_dict.append({'character': character_i, 'meaning': meaning_i,\n",
    "                       'tone': tone_i, 'pinyin': pinyin_i})\n",
    "    print('\\nFollowing values have been added to the vocabulary:\\nCharacter: {}\\nMeaning: {}\\nTone: {}\\nPinyin: {}'.format(character_i,meaning_i,\n",
    "                                                                   tone_i, pinyin_i)) "
   ]
  },
  {
   "cell_type": "code",
   "execution_count": 52,
   "metadata": {},
   "outputs": [
    {
     "name": "stdout",
     "output_type": "stream",
     "text": [
      "Please type in the Chinese character: 给\n",
      "Please type the english meaning of this chinese character: to give\n",
      "Please provide the tone of this chinese character (1-4): 3\n",
      "Please provide the pinyin of this chinese character: gei\n",
      "\n",
      "Following values have been added to the vocabulary:\n",
      "Character: 给\n",
      "Meaning: to give\n",
      "Tone: 3\n",
      "Pinyin: gei\n"
     ]
    }
   ],
   "source": [
    "add_vocabulary(vocabulary)"
   ]
  },
  {
   "cell_type": "code",
   "execution_count": 54,
   "metadata": {},
   "outputs": [
    {
     "data": {
      "text/plain": [
       "[{'character': '我', 'meaning': 'I', 'tone': 3, 'pinyin': 'wo'},\n",
       " {'character': '你', 'meaning': 'you', 'tone': 3, 'pinyin': 'ni'},\n",
       " {'character': '她', 'meaning': 'she', 'tone': 1, 'pinyin': 'ta'},\n",
       " {'character': '他', 'meaning': 'he', 'tone': 1, 'pinyin': 'ta'},\n",
       " {'character': '爱', 'meaning': 'love', 'tone': 4, 'pinyin': 'ai'},\n",
       " {'character': '不', 'meaning': 'no', 'tone': 4, 'pinyin': 'bu'},\n",
       " {'character': '好', 'meaning': 'good', 'tone': 3, 'pinyin': 'hao'},\n",
       " {'character': '有', 'meaning': 'to have', 'tone': 3, 'pinyin': 'you'},\n",
       " {'character': '很', 'meaning': 'very', 'tone': 3, 'pinyin': 'hen'},\n",
       " {'character': '给', 'meaning': 'to give', 'tone': 3, 'pinyin': 'gei'}]"
      ]
     },
     "execution_count": 54,
     "metadata": {},
     "output_type": "execute_result"
    }
   ],
   "source": [
    "vocabulary"
   ]
  },
  {
   "cell_type": "code",
   "execution_count": 32,
   "metadata": {},
   "outputs": [
    {
     "name": "stdout",
     "output_type": "stream",
     "text": [
      "Do you want to add more characters? Enter YES or NO: Yes\n",
      "Please type in the Chinese character: 有\n",
      "Please type the english meaning of this chinese character: to have\n",
      "Please provide the tone of this chinese character: 3\n",
      "Please provide the pinyin of this chinese character: you\n",
      "\n",
      "Following values have been added to the vocabulary:\n",
      "Character: 有\n",
      "Meaning: to have\n",
      "Tone: 3\n",
      "Pinyin: you\n",
      "Do you want to add more characters? Enter YES or NOyEs\n",
      "Please type in the Chinese character: 很\n",
      "Please type the english meaning of this chinese character: very\n",
      "Please provide the tone of this chinese character: 3\n",
      "Please provide the pinyin of this chinese character: hen\n",
      "\n",
      "Following values have been added to the vocabulary:\n",
      "Character: 很\n",
      "Meaning: very\n",
      "Tone: 3\n",
      "Pinyin: hen\n",
      "Do you want to add more characters? Enter YES or NONO\n"
     ]
    }
   ],
   "source": [
    "continue_asking = input('Do you want to add more characters? Enter YES or NO: ')\n",
    "while continue_asking.lower() == 'yes':\n",
    "    character_i = input('Please type in the Chinese character: ')\n",
    "    meaning_i = input('Please type the english meaning of this chinese character: ')\n",
    "    tone_i = int(input('Please provide the tone of this chinese character: '))\n",
    "    pinyin_i = input('Please provide the pinyin of this chinese character: ')\n",
    "    vocabulary.append({'character': character_i, 'meaning': meaning_i,\n",
    "                       'tone': tone_i, 'pinyin': pinyin_i})\n",
    "    print('\\nFollowing values have been added to the vocabulary:\\nCharacter: {}\\nMeaning: {}\\nTone: {}\\nPinyin: {}'.format(character_i,meaning_i,\n",
    "                                                                   tone_i, pinyin_i))\n",
    "    continue_asking = input('Do you want to add more characters? Enter YES or NO: ')"
   ]
  },
  {
   "cell_type": "code",
   "execution_count": 33,
   "metadata": {},
   "outputs": [
    {
     "data": {
      "text/plain": [
       "[{'character': '我', 'meaning': 'I', 'tone': 3, 'pinyin': 'wo'},\n",
       " {'character': '你', 'meaning': 'you', 'tone': 3, 'pinyin': 'ni'},\n",
       " {'character': '她', 'meaning': 'she', 'tone': 1, 'pinyin': 'ta'},\n",
       " {'character': '他', 'meaning': 'he', 'tone': 1, 'pinyin': 'ta'},\n",
       " {'character': '爱', 'meaning': 'love', 'tone': 4, 'pinyin': 'ai'},\n",
       " {'character': '不', 'meaning': 'no', 'tone': 4, 'pinyin': 'bu'},\n",
       " {'character': '好', 'meaning': 'good', 'tone': 3, 'pinyin': 'hao'},\n",
       " {'character': '有', 'meaning': 'to have', 'tone': 3, 'pinyin': 'you'},\n",
       " {'character': '很', 'meaning': 'very', 'tone': 3, 'pinyin': 'hen'}]"
      ]
     },
     "execution_count": 33,
     "metadata": {},
     "output_type": "execute_result"
    }
   ],
   "source": [
    "vocabulary"
   ]
  },
  {
   "cell_type": "code",
   "execution_count": null,
   "metadata": {},
   "outputs": [],
   "source": []
  }
 ],
 "metadata": {
  "kernelspec": {
   "display_name": "Python 3",
   "language": "python",
   "name": "python3"
  },
  "language_info": {
   "codemirror_mode": {
    "name": "ipython",
    "version": 3
   },
   "file_extension": ".py",
   "mimetype": "text/x-python",
   "name": "python",
   "nbconvert_exporter": "python",
   "pygments_lexer": "ipython3",
   "version": "3.6.8"
  }
 },
 "nbformat": 4,
 "nbformat_minor": 2
}
